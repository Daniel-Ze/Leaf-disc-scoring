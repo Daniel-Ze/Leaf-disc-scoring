{
 "cells": [
  {
   "cell_type": "markdown",
   "metadata": {},
   "source": [
    "This is part of the publication on automated detection of downy mildew on leaf discs.\n",
    "\n",
    "**High-throughput phenotyping of leaf discs infected with grapevine downy mildew using trained convolutional neural networks**\\\n",
    "Zendler D, Nagarjun M, Schwandner A, Hausmann L, Zyprian E\n",
    "\n",
    "Please be aware that further reading is required to get reasonable results. The code presented here was used to generated the CNN models for the above mentioned publication.\n",
    "\n",
    "## 1. Load all the things:"
   ]
  },
  {
   "cell_type": "code",
   "execution_count": 232,
   "metadata": {},
   "outputs": [],
   "source": [
    "from keras.models import Sequential\n",
    "from keras.layers import Conv2D, MaxPooling2D\n",
    "from keras.layers import Activation, Dropout, Flatten, Dense\n",
    "from keras.optimizers import RMSprop\n",
    "from keras.optimizers import Adam\n",
    "from keras.optimizers import Nadam\n",
    "from keras.optimizers import Adadelta\n",
    "from keras.optimizers import SGD\n",
    "from keras.preprocessing.image import ImageDataGenerator, array_to_img, img_to_array, load_img"
   ]
  },
  {
   "cell_type": "markdown",
   "metadata": {},
   "source": [
    "## 2. Define all the variables needed\n",
    "\n",
    "First off we will define a few parameters that will help us for the downstream code:\n",
    "  - dropout = this will be adjusted in case out CNN is overfitting\n",
    "  - learning_rate = this will influence big the weights adjustments will be\n",
    "  - batch_size = the number of images that is analyzed in a batch\n",
    "  - train_dir = path to the training data\n",
    "  - val_dir = path to the validation data\n",
    "  - img_size = the pixel resolution of the image slices\n",
    "  - nr_train_img = the total number of training images (calss1 + class2)\n",
    "  - nr_val_img = the total number of validation images (class1 + class2)\n",
    "  - nr_epoch = the number of epochs for training the CNN"
   ]
  },
  {
   "cell_type": "code",
   "execution_count": 282,
   "metadata": {},
   "outputs": [],
   "source": [
    "# Change this to something between 0.2 and 0.5\n",
    "dropout = 0.5\n",
    "\n",
    "# For RMSprop, Adam, Nadam optimizer the learning rate should be around 0.0001\n",
    "# For Adadelta the learning rate has to be set to 0.1\n",
    "learning_rate = 0.0001\n",
    "\n",
    "# Increase or dcrease this number according to your system\n",
    "batch_size = 16\n",
    "\n",
    "# The directory in which we stored the training and validation data for the two different classes.\n",
    "# !!! Make sure to adjust this !!!\n",
    "train_dir = ''\n",
    "val_dir = ''\n",
    "\n",
    "# Image resolution in pixels for the image slices\n",
    "x = 100 #height\n",
    "y = 119 #width\n",
    "img_size = (x, y, 3)\n",
    "\n",
    "# Number of training and validation images\n",
    "nr_train_img = 1936 # don't forget\n",
    "nr_val_img = 874  # don't forget\n",
    "\n",
    "# Number of training epochs; for testing 5 for final training 15 - 30\n",
    "nr_epoch = 30"
   ]
  },
  {
   "cell_type": "markdown",
   "metadata": {},
   "source": [
    "## 3. Set up the CNN\n",
    "\n",
    "Let's generate the CNN:\n",
    "  - we chose 3 four convolution layers with 32, 32, 64 and 128 nodes\n",
    "  - each layer has the ReLU activation function\n",
    "  - each layer is pooled by 2 x 2 (see MaxPooling2D for more information)\n",
    "  - Two dense (fully connected) layers with each 512 inputs\n",
    "  - We are using the Nadam optimizer which has like SGD a momentum for the learning rate\n",
    "  - The learning rate is set in the code above\n",
    "\n",
    "Please be aware that you might have to change the architecture of your network according to your data. Also the used optimizer is a thing of trial and error."
   ]
  },
  {
   "cell_type": "code",
   "execution_count": 291,
   "metadata": {},
   "outputs": [],
   "source": [
    "model = Sequential()\n",
    "model.add(Conv2D(32, (3, 3), input_shape=(img_size)))\n",
    "model.add(Activation('relu'))\n",
    "model.add(MaxPooling2D(pool_size=(2, 2)))\n",
    "\n",
    "model.add(Conv2D(32, (3, 3)))\n",
    "model.add(Activation('relu'))\n",
    "model.add(MaxPooling2D(pool_size=(2, 2)))\n",
    "\n",
    "model.add(Conv2D(64, (3, 3)))\n",
    "model.add(Activation('relu'))\n",
    "model.add(MaxPooling2D(pool_size=(2, 2)))\n",
    "\n",
    "model.add(Conv2D(128, (3, 3)))\n",
    "model.add(Activation('relu'))\n",
    "model.add(MaxPooling2D(pool_size=(2, 2)))\n",
    "\n",
    "model.add(Flatten())  # this converts our 3D feature maps to 1D feature vectors\n",
    "model.add(Dense(512))\n",
    "model.add(Activation('relu'))\n",
    "model.add(Dropout(dropout))\n",
    "model.add(Dense(512))\n",
    "model.add(Activation('relu'))\n",
    "model.add(Dropout(dropout))\n",
    "model.add(Dense(1))\n",
    "model.add(Activation('sigmoid'))\n",
    "\n",
    "model.compile(loss='binary_crossentropy',\n",
    "              optimizer=Nadam(lr=learning_rate),\n",
    "              metrics=['accuracy'])"
   ]
  },
  {
   "cell_type": "markdown",
   "metadata": {},
   "source": [
    "## 4. Create image data generators and image data augmentation\n",
    "\n",
    "Next we will generate a ImageDataGenerator for training and validation images. This is a helpful tool when the number of images is limited.\n",
    "The ImageDataGenerator will perform so called image augmentation with our images. This means the images will changed slightly according to the supplied options, hopefully giving the model more flexibility e.g. in terms of differing light conditions.\n",
    "\n",
    "\n",
    "For references and further options: https://keras.io/api/preprocessing/image/\n",
    "\n",
    "\n",
    "\n",
    "The image data augmentation will only performed for the training data. It can be that the augmentation is too far away from the validation data and will decrease the model accuracy. Please feel free to adjust for your data accordingly. Sample images of the performed augmentation are being plotted later.\n",
    "\n",
    "\n",
    "Further with the option rescale we change the values of the RGB picture from training and validation that ranges from 1 to 255 to values between 0 and 1. This is needed for tensorflow."
   ]
  },
  {
   "cell_type": "code",
   "execution_count": 292,
   "metadata": {},
   "outputs": [],
   "source": [
    "train_datagen = ImageDataGenerator(\n",
    "        rescale=1./255,              # Rescaling the RGB values to a number between 0 and 1\n",
    "        shear_range=0.2,             # Shear angle in counter-clockwise direction in degrees\n",
    "        zoom_range=0.2,              # Range for random zoom\n",
    "        horizontal_flip=True,        # Random horizontal flipping of the image\n",
    "        vertical_flip=True,          # Random vertical flipping of the image\n",
    "        brightness_range=[0.5,1.5])  # Randomly adjusting the brightness\n",
    "#        width_shift_range=0.2,\n",
    "#        height_shift_range=0.2)\n",
    "\n",
    "test_datagen = ImageDataGenerator(rescale=1./255)"
   ]
  },
  {
   "cell_type": "markdown",
   "metadata": {},
   "source": [
    "### 4.1 Have a look at the image data augmentation\n",
    "\n",
    "Next we will visualize the image augmentation options from above. This will help us identify options that might not fit the validation image data and therefore helps us to adjust accordingly.\n",
    "\n",
    "\n",
    "Please specify an image from one of the classes in the training directory. Idealy you want to see something like this as output from the following code block:\n",
    "\n",
    "\n",
    "![img_augmentation](img_augmen.png)\n",
    "\n",
    "\n",
    "(If there are more than 9 images in the training folder after testing the augmentation this will throw an error.)"
   ]
  },
  {
   "cell_type": "code",
   "execution_count": 276,
   "metadata": {},
   "outputs": [
    {
     "name": "stdout",
     "output_type": "stream",
     "text": [
      "Error: Too many images in folder. Please delete old ones first.\n"
     ]
    }
   ],
   "source": [
    "img_path = (train_dir + '') # Specify a image from your training data to visualize the image augmentation preview\n",
    "\n",
    "try:\n",
    "    img = load_img(img_path)\n",
    "except:\n",
    "    print(\"No file path supplied\")\n",
    "else:\n",
    "    img = load_img(img_path)\n",
    "    img_array = img_to_array(img)\n",
    "    img_array_reshape = img_array.reshape((1,) + img_array.shape)  \n",
    "    i = 0\n",
    "    for batch in train_datagen.flow(img_array_reshape, batch_size=1,\n",
    "                                    save_to_dir=train_dir, \n",
    "                                    save_prefix='augmentation_preview', \n",
    "                                    save_format='jpeg'):\n",
    "        i += 1\n",
    "        if i > 8:\n",
    "            break  # otherwise the generator would loop indefinitely\n",
    "\n",
    "    data_dir = pathlib.Path(train_dir)\n",
    "    image_list = list(data_dir.glob('*.jpeg'))\n",
    "    n_images = len(image_list)\n",
    "    \n",
    "    if n_images == 9:\n",
    "        plt.figure(figsize=(10, 10))\n",
    "        for i in range(n_images):\n",
    "            img = load_img(image_list[i]) \n",
    "            ax = plt.subplot(3, 3, i + 1)\n",
    "            plt.imshow(img)\n",
    "            plt.axis(\"off\")\n",
    "        plt.show()\n",
    "        print(\"Check \"+train_dir+(\" for results (and remove them if you don't need them anymore).\"))\n",
    "    else:\n",
    "        print(\"Error: Too many images in folder. Please delete old ones first.\")"
   ]
  },
  {
   "cell_type": "markdown",
   "metadata": {},
   "source": [
    "## 5. Load the image data for training and validation\n",
    "\n",
    "Next step is to load our image data with the ImageDataGenerators that we defined before. Data will be loaded in batches according to the specified batch size above. We define binary as we will have two classes for the training."
   ]
  },
  {
   "cell_type": "code",
   "execution_count": 293,
   "metadata": {},
   "outputs": [
    {
     "name": "stdout",
     "output_type": "stream",
     "text": [
      "Found 1936 images belonging to 2 classes.\n",
      "Found 874 images belonging to 2 classes.\n"
     ]
    }
   ],
   "source": [
    "train_generator = train_datagen.flow_from_directory(\n",
    "        train_dir,  \n",
    "        target_size=(x, y),\n",
    "        batch_size=batch_size,\n",
    "        class_mode='binary')\n",
    "\n",
    "validation_generator = test_datagen.flow_from_directory(\n",
    "        val_dir,\n",
    "        target_size=(x, y),\n",
    "        batch_size=batch_size,\n",
    "        class_mode='binary')"
   ]
  },
  {
   "cell_type": "markdown",
   "metadata": {},
   "source": [
    "## 6. Train the CNN model\n",
    "\n",
    "Now that we have everything set up we can start the model training of our defined CNN. The variables batch size, number of epochs, number of training and validation images have been defined at the very beginning. Have a quick look if everythings fine before you start the training. Training and validation progress is saved in 'history'."
   ]
  },
  {
   "cell_type": "code",
   "execution_count": 294,
   "metadata": {},
   "outputs": [
    {
     "name": "stdout",
     "output_type": "stream",
     "text": [
      "Epoch 1/30\n",
      "121/121 [==============================] - 26s 202ms/step - loss: 0.6931 - accuracy: 0.5003 - val_loss: 0.6640 - val_accuracy: 0.5671\n",
      "Epoch 2/30\n",
      "121/121 [==============================] - 18s 145ms/step - loss: 0.6437 - accuracy: 0.6558 - val_loss: 0.5366 - val_accuracy: 0.7523\n",
      "Epoch 3/30\n",
      "121/121 [==============================] - 14s 112ms/step - loss: 0.5147 - accuracy: 0.7677 - val_loss: 0.3990 - val_accuracy: 0.8160\n",
      "Epoch 4/30\n",
      "121/121 [==============================] - 14s 115ms/step - loss: 0.4055 - accuracy: 0.8379 - val_loss: 0.3007 - val_accuracy: 0.8819\n",
      "Epoch 5/30\n",
      "121/121 [==============================] - 13s 104ms/step - loss: 0.3112 - accuracy: 0.8926 - val_loss: 0.2846 - val_accuracy: 0.8958\n",
      "Epoch 6/30\n",
      "121/121 [==============================] - 14s 112ms/step - loss: 0.2715 - accuracy: 0.9100 - val_loss: 0.3678 - val_accuracy: 0.8426\n",
      "Epoch 7/30\n",
      "121/121 [==============================] - 14s 113ms/step - loss: 0.2763 - accuracy: 0.9020 - val_loss: 0.2845 - val_accuracy: 0.8877\n",
      "Epoch 8/30\n",
      "121/121 [==============================] - 14s 115ms/step - loss: 0.2554 - accuracy: 0.9071 - val_loss: 0.2350 - val_accuracy: 0.9132\n",
      "Epoch 9/30\n",
      "121/121 [==============================] - 13s 109ms/step - loss: 0.2218 - accuracy: 0.9275 - val_loss: 0.2188 - val_accuracy: 0.9294\n",
      "Epoch 10/30\n",
      "121/121 [==============================] - 13s 108ms/step - loss: 0.2084 - accuracy: 0.9259 - val_loss: 0.2184 - val_accuracy: 0.9340\n",
      "Epoch 11/30\n",
      "121/121 [==============================] - 14s 111ms/step - loss: 0.2301 - accuracy: 0.9180 - val_loss: 0.2047 - val_accuracy: 0.9375\n",
      "Epoch 12/30\n",
      "121/121 [==============================] - 14s 114ms/step - loss: 0.2154 - accuracy: 0.9204 - val_loss: 0.2041 - val_accuracy: 0.9352\n",
      "Epoch 13/30\n",
      "121/121 [==============================] - 13s 109ms/step - loss: 0.2134 - accuracy: 0.9296 - val_loss: 0.2359 - val_accuracy: 0.9120\n",
      "Epoch 14/30\n",
      "121/121 [==============================] - 13s 111ms/step - loss: 0.2140 - accuracy: 0.9366 - val_loss: 0.1993 - val_accuracy: 0.9306\n",
      "Epoch 15/30\n",
      "121/121 [==============================] - 15s 120ms/step - loss: 0.2210 - accuracy: 0.9223 - val_loss: 0.1985 - val_accuracy: 0.9340\n",
      "Epoch 16/30\n",
      "121/121 [==============================] - 15s 123ms/step - loss: 0.1982 - accuracy: 0.9400 - val_loss: 0.1897 - val_accuracy: 0.9375\n",
      "Epoch 17/30\n",
      "121/121 [==============================] - 13s 108ms/step - loss: 0.2009 - accuracy: 0.9314 - val_loss: 0.1794 - val_accuracy: 0.9363\n",
      "Epoch 18/30\n",
      "121/121 [==============================] - 14s 114ms/step - loss: 0.1916 - accuracy: 0.9421 - val_loss: 0.1842 - val_accuracy: 0.9294\n",
      "Epoch 19/30\n",
      "121/121 [==============================] - 14s 113ms/step - loss: 0.1996 - accuracy: 0.9319 - val_loss: 0.1694 - val_accuracy: 0.9456\n",
      "Epoch 20/30\n",
      "121/121 [==============================] - 13s 110ms/step - loss: 0.1802 - accuracy: 0.9433 - val_loss: 0.1707 - val_accuracy: 0.9375\n",
      "Epoch 21/30\n",
      "121/121 [==============================] - 14s 113ms/step - loss: 0.1931 - accuracy: 0.9394 - val_loss: 0.2341 - val_accuracy: 0.9155\n",
      "Epoch 22/30\n",
      "121/121 [==============================] - 14s 113ms/step - loss: 0.1890 - accuracy: 0.9421 - val_loss: 0.1654 - val_accuracy: 0.9398\n",
      "Epoch 23/30\n",
      "121/121 [==============================] - 13s 110ms/step - loss: 0.1570 - accuracy: 0.9534 - val_loss: 0.2356 - val_accuracy: 0.9155\n",
      "Epoch 24/30\n",
      "121/121 [==============================] - 13s 111ms/step - loss: 0.1754 - accuracy: 0.9418 - val_loss: 0.1983 - val_accuracy: 0.9317\n",
      "Epoch 25/30\n",
      "121/121 [==============================] - 14s 111ms/step - loss: 0.1789 - accuracy: 0.9371 - val_loss: 0.1794 - val_accuracy: 0.9398\n",
      "Epoch 26/30\n",
      "121/121 [==============================] - 14s 115ms/step - loss: 0.2057 - accuracy: 0.9257 - val_loss: 0.1834 - val_accuracy: 0.9340\n",
      "Epoch 27/30\n",
      "121/121 [==============================] - 14s 113ms/step - loss: 0.1586 - accuracy: 0.9521 - val_loss: 0.1646 - val_accuracy: 0.9410\n",
      "Epoch 28/30\n",
      "121/121 [==============================] - 14s 112ms/step - loss: 0.1839 - accuracy: 0.9389 - val_loss: 0.1569 - val_accuracy: 0.9479\n",
      "Epoch 29/30\n",
      "121/121 [==============================] - 14s 117ms/step - loss: 0.1953 - accuracy: 0.9261 - val_loss: 0.1677 - val_accuracy: 0.9421\n",
      "Epoch 30/30\n",
      "121/121 [==============================] - 13s 110ms/step - loss: 0.1546 - accuracy: 0.9470 - val_loss: 0.1727 - val_accuracy: 0.9363\n"
     ]
    }
   ],
   "source": [
    "history = model.fit(\n",
    "        train_generator,\n",
    "        steps_per_epoch=nr_train_img // batch_size,\n",
    "        epochs=nr_epoch,\n",
    "        validation_data=validation_generator,\n",
    "        validation_steps=nr_val_img // batch_size)"
   ]
  },
  {
   "cell_type": "markdown",
   "metadata": {},
   "source": [
    "## 7. Visualize what your computer just did for you\n",
    "\n",
    "We plot now the training and validation data for accuracy and loss during the model training. The output from above is further formatted using pandas so that you can go ahead and use it in your favorite program for plotting data.\n",
    "\n",
    "\n",
    "Ideally you would want to see something like this:\n",
    "\n",
    "![train_val](train_val.png)"
   ]
  },
  {
   "cell_type": "code",
   "execution_count": 296,
   "metadata": {},
   "outputs": [
    {
     "data": {
      "image/png": "[encoded data removed]",
      "text/plain": [
       "<Figure size 1080x432 with 2 Axes>"
      ]
     },
     "metadata": {
      "needs_background": "light"
     },
     "output_type": "display_data"
    },
    {
     "name": "stdout",
     "output_type": "stream",
     "text": [
      "        loss  accuracy  val_loss  val_accuracy\n",
      "0   0.688658  0.526860  0.664024      0.567130\n",
      "1   0.620016  0.689050  0.536592      0.752315\n",
      "2   0.478650  0.784091  0.399012      0.815972\n",
      "3   0.356858  0.862603  0.300733      0.881944\n",
      "4   0.305378  0.893079  0.284558      0.895833\n",
      "5   0.275507  0.902893  0.367829      0.842593\n",
      "6   0.259999  0.910640  0.284547      0.887731\n",
      "7   0.250867  0.911674  0.235005      0.913194\n",
      "8   0.240295  0.925103  0.218790      0.929398\n",
      "9   0.221753  0.919421  0.218399      0.934028\n",
      "10  0.240370  0.918388  0.204700      0.937500\n",
      "11  0.225698  0.918905  0.204125      0.935185\n",
      "12  0.219971  0.926653  0.235902      0.912037\n",
      "13  0.218857  0.932335  0.199266      0.930556\n",
      "14  0.206766  0.923554  0.198482      0.934028\n",
      "15  0.212034  0.928202  0.189684      0.937500\n",
      "16  0.200254  0.931302  0.179354      0.936343\n",
      "17  0.196795  0.940083  0.184163      0.929398\n",
      "18  0.199193  0.930269  0.169436      0.945602\n",
      "19  0.186155  0.939566  0.170694      0.937500\n",
      "20  0.189812  0.937500  0.234079      0.915509\n",
      "21  0.183264  0.937500  0.165432      0.939815\n",
      "22  0.182388  0.934917  0.235578      0.915509\n",
      "23  0.188093  0.940083  0.198267      0.931713\n",
      "24  0.170718  0.941116  0.179386      0.939815\n",
      "25  0.181073  0.936467  0.183436      0.934028\n",
      "26  0.173091  0.942665  0.164590      0.940972\n",
      "27  0.168006  0.945764  0.156900      0.947917\n",
      "28  0.168353  0.938533  0.167690      0.942130\n",
      "29  0.172966  0.943698  0.172703      0.936343\n"
     ]
    }
   ],
   "source": [
    "import matplotlib.pyplot as plt\n",
    "import numpy\n",
    "\n",
    "acc = history.history['accuracy']\n",
    "val_acc = history.history['val_accuracy']\n",
    "\n",
    "loss = history.history['loss']\n",
    "val_loss = history.history['val_loss']\n",
    "\n",
    "epochs_range = range(nr_epoch)\n",
    "\n",
    "plt.figure(figsize=(15, 6))\n",
    "plt.subplot(1, 2, 1)\n",
    "plt.plot(epochs_range, acc, label='Training Accuracy')\n",
    "plt.plot(epochs_range, val_acc, label='Validation Accuracy')\n",
    "plt.legend(loc='lower right')\n",
    "plt.title('Training and Validation Accuracy')\n",
    "\n",
    "plt.subplot(1, 2, 2)\n",
    "plt.plot(epochs_range, loss, label='Training Loss')\n",
    "plt.plot(epochs_range, val_loss, label='Validation Loss')\n",
    "plt.legend(loc='upper right')\n",
    "plt.title('Training and Validation Loss')\n",
    "plt.show()\n",
    "\n",
    "import pandas as pd\n",
    "\n",
    "df = pd.DataFrame(history.history)\n",
    "\n",
    "print(df)"
   ]
  },
  {
   "cell_type": "markdown",
   "metadata": {},
   "source": [
    "## 8. Save your data\n",
    "\n",
    "After having a look at the training/validation accuracy and loss during the model training you can save those models that show a good fit. Make sure you change the name to something different after you've saved a model. "
   ]
  },
  {
   "cell_type": "code",
   "execution_count": 299,
   "metadata": {},
   "outputs": [],
   "source": [
    "model.save_weights('data4_update/d4-u_l_vs_s_mCvsDadj6_acc94_nadam_d'+str(dropout)+'_lr'+str(learning_rate)+'_ep'+str(nr_epoch)+'_weights.h5')\n",
    "model.save('data4_update/d4-u_l_vs_s_mCvsDadj6_acc94_nadam_d'+str(dropout)+'_lr'+str(learning_rate)+'_ep'+str(nr_epoch)+'.h5')"
   ]
  }
 ],
 "metadata": {
  "kernelspec": {
   "display_name": "Python 3",
   "language": "python",
   "name": "python3"
  },
  "language_info": {
   "codemirror_mode": {
    "name": "ipython",
    "version": 3
   },
   "file_extension": ".py",
   "mimetype": "text/x-python",
   "name": "python",
   "nbconvert_exporter": "python",
   "pygments_lexer": "ipython3",
   "version": "3.8.1"
  }
 },
 "nbformat": 4,
 "nbformat_minor": 4
}
